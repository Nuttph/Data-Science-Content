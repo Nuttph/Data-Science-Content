{
 "cells": [
  {
   "cell_type": "code",
   "execution_count": 44,
   "metadata": {},
   "outputs": [],
   "source": [
    "import mysql.connector\n",
    "from tabulate import tabulate\n",
    "from dotenv import load_dotenv\n",
    "import os"
   ]
  },
  {
   "cell_type": "code",
   "execution_count": 46,
   "metadata": {},
   "outputs": [
    {
     "data": {
      "text/plain": [
       "True"
      ]
     },
     "execution_count": 46,
     "metadata": {},
     "output_type": "execute_result"
    }
   ],
   "source": [
    "load_dotenv()"
   ]
  },
  {
   "cell_type": "code",
   "execution_count": null,
   "metadata": {},
   "outputs": [
    {
     "name": "stdout",
     "output_type": "stream",
     "text": [
      "<mysql.connector.connection_cext.CMySQLConnection object at 0x0000024C3859A1B0>\n"
     ]
    }
   ],
   "source": [
    "mydb = mysql.connector.connect(\n",
    "  host=os.getenv('DB_HOST'),\n",
    "  user=os.getenv('DB_USER'),\n",
    "  password=os.getenv('DB_PASSWORD'),\n",
    "  database=os.getenv('DB_NAME')\n",
    ")\n",
    "\n",
    "print(mydb)\n",
    "mycursor = mydb.cursor()"
   ]
  },
  {
   "cell_type": "code",
   "execution_count": null,
   "metadata": {},
   "outputs": [],
   "source": [
    "\n",
    "\n",
    "\n",
    "insertProduct = \"SELECT * FROM product\"\n",
    "mycursor.execute(insertProduct)"
   ]
  },
  {
   "cell_type": "code",
   "execution_count": 41,
   "metadata": {},
   "outputs": [
    {
     "name": "stdout",
     "output_type": "stream",
     "text": [
      "+-----------+-------------+-------+\n",
      "| productId | productName | count |\n",
      "+-----------+-------------+-------+\n",
      "|     1     |   iPhone    |  19   |\n",
      "|     2     |   Labtop    |   5   |\n",
      "+-----------+-------------+-------+\n"
     ]
    }
   ],
   "source": [
    "getAllProduct = \"SELECT * FROM product\"\n",
    "\n",
    "mycursor.execute(getAllProduct)\n",
    "\n",
    "myresult = mycursor.fetchall()\n",
    "\n",
    "print(tabulate(myresult, headers=[i[0] for i in mycursor.description], tablefmt=\"pretty\"))"
   ]
  }
 ],
 "metadata": {
  "kernelspec": {
   "display_name": "Python 3",
   "language": "python",
   "name": "python3"
  },
  "language_info": {
   "codemirror_mode": {
    "name": "ipython",
    "version": 3
   },
   "file_extension": ".py",
   "mimetype": "text/x-python",
   "name": "python",
   "nbconvert_exporter": "python",
   "pygments_lexer": "ipython3",
   "version": "3.12.4"
  }
 },
 "nbformat": 4,
 "nbformat_minor": 2
}
